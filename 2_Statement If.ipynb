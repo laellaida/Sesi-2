{
 "cells": [
  {
   "cell_type": "markdown",
   "id": "25482901",
   "metadata": {},
   "source": [
    "# Statement IF, ELSE IF (ELIF), ELSE"
   ]
  },
  {
   "cell_type": "code",
   "execution_count": null,
   "id": "384bc0d5",
   "metadata": {},
   "outputs": [],
   "source": [
    "\n",
    "x = 0\n",
    "y = 5\n",
    "\n",
    "if x < y :                        #Truthy\n",
    "    print('yes')\n",
    "    \n",
    "if y < x :                        #Falsy\n",
    "    print('yes')    \n",
    "if x:                             #Falsy\n",
    "    print('yes')        \n",
    "if y:                             #Truthy\n",
    "    print('yes')         \n",
    "if 'aul' in 'grault' :            #Truthy\n",
    "    print('yes')\n",
    "if 'quux' in ['foo','bar','baz']: #Falsy\n",
    "    print('yes')"
   ]
  },
  {
   "cell_type": "code",
   "execution_count": 3,
   "id": "c46c3fdf",
   "metadata": {},
   "outputs": [
    {
     "name": "stdout",
     "output_type": "stream",
     "text": [
      "(second suite)\n",
      "x is large\n"
     ]
    }
   ],
   "source": [
    "x = 120\n",
    "\n",
    "if x < 50:\n",
    "    print('(first suite)')\n",
    "    print('x is small')\n",
    "else:\n",
    "    print('(second suite)')\n",
    "    print('x is large')"
   ]
  },
  {
   "cell_type": "code",
   "execution_count": 4,
   "id": "0b91f3ee",
   "metadata": {},
   "outputs": [
    {
     "name": "stdout",
     "output_type": "stream",
     "text": [
      "uang tidak cukup\n"
     ]
    }
   ],
   "source": [
    "hargabuku = 20000\n",
    "hargamajalah = 5000\n",
    "uang = 2000\n",
    "\n",
    "if uang > hargabuku:\n",
    "    print(\"beli buku\")\n",
    "else:\n",
    "    print(\"uang tidak cukup\")"
   ]
  },
  {
   "cell_type": "code",
   "execution_count": 5,
   "id": "7716a6a0",
   "metadata": {},
   "outputs": [
    {
     "name": "stdout",
     "output_type": "stream",
     "text": [
      "uang tidak cukup\n"
     ]
    }
   ],
   "source": [
    "hargabuku = 20000\n",
    "hargamajalah = 5000\n",
    "uang = 2000\n",
    "\n",
    "if uang > hargabuku:\n",
    "    print(\"beli buku\")\n",
    "elif uang > hargamajalah:\n",
    "    print(\"beli majalah\")\n",
    "else:\n",
    "    print(\"uang tidak cukup\")"
   ]
  },
  {
   "cell_type": "code",
   "execution_count": 6,
   "id": "508f9872",
   "metadata": {},
   "outputs": [
    {
     "name": "stdout",
     "output_type": "stream",
     "text": [
      "uang tidak cukup\n"
     ]
    }
   ],
   "source": [
    "hargabuku = 20000\n",
    "hargamajalah = 5000\n",
    "uang = 5000\n",
    "\n",
    "if uang > hargabuku:\n",
    "    print(\"beli buku\")\n",
    "elif uang > hargamajalah:\n",
    "    print(\"beli majalah\")\n",
    "else:\n",
    "    print(\"uang tidak cukup\")"
   ]
  },
  {
   "cell_type": "code",
   "execution_count": 7,
   "id": "c434b6ea",
   "metadata": {},
   "outputs": [
    {
     "name": "stdout",
     "output_type": "stream",
     "text": [
      "beli majalah\n"
     ]
    }
   ],
   "source": [
    "hargabuku = 20000\n",
    "hargamajalah = 5000\n",
    "uang = 5000\n",
    "\n",
    "if uang > hargabuku:\n",
    "    print(\"beli buku\")\n",
    "elif uang >= hargamajalah:\n",
    "    print(\"beli majalah\")\n",
    "else:\n",
    "    print(\"uang tidak cukup\")"
   ]
  },
  {
   "cell_type": "code",
   "execution_count": null,
   "id": "b34230e7",
   "metadata": {},
   "outputs": [],
   "source": [
    "hargabuku = int(input())\n",
    "hargamajalah = 5000\n",
    "uang = 5000\n",
    "\n",
    "if uang > hargabuku:\n",
    "    print(\"beli buku\")\n",
    "elif uang >= hargamajalah:\n",
    "    print(\"beli majalah\")\n",
    "else:\n",
    "    print(\"uang tidak cukup\")"
   ]
  },
  {
   "cell_type": "code",
   "execution_count": 9,
   "id": "96110a54",
   "metadata": {},
   "outputs": [
    {
     "name": "stdout",
     "output_type": "stream",
     "text": [
      "Hello Ida\n"
     ]
    }
   ],
   "source": [
    "name = 'Ida'\n",
    "if name == 'Ida':\n",
    "    print('Hello Ida')\n",
    "elif name == 'Xander':\n",
    "    print('Hello Xander')\n",
    "elif name == 'Hacktiv8':\n",
    "    print('Hello Hacktiv8')\n",
    "elif name == 'Arnold':\n",
    "    print('Hello Arnold')\n",
    "else :\n",
    "    print(\"kamu siapa?\")"
   ]
  },
  {
   "cell_type": "code",
   "execution_count": 10,
   "id": "361f171d",
   "metadata": {},
   "outputs": [
    {
     "name": "stdout",
     "output_type": "stream",
     "text": [
      "kamu siapa?\n"
     ]
    }
   ],
   "source": [
    "name = 'Atmaja'\n",
    "if name == 'Ida':\n",
    "    print('Hello Ida')\n",
    "elif name == 'Xander':\n",
    "    print('Hello Xander')\n",
    "elif name == 'Hacktiv8':\n",
    "    print('Hello Hacktiv8')\n",
    "elif name == 'Arnold':\n",
    "    print('Hello Arnold')\n",
    "else :\n",
    "    print(\"kamu siapa?\")"
   ]
  },
  {
   "cell_type": "code",
   "execution_count": 11,
   "id": "9266a6de",
   "metadata": {},
   "outputs": [],
   "source": [
    "name = 'Atmaja'\n",
    "if name == 'Ida':\n",
    "    print('Hello Ida')\n",
    "elif name == 'Xander':\n",
    "    print('Hello Xander')\n",
    "elif name == 'Hacktiv8':\n",
    "    print('Hello Hacktiv8')\n",
    "elif name == 'Arnold':\n",
    "    print('Hello Arnold')"
   ]
  },
  {
   "cell_type": "code",
   "execution_count": 14,
   "id": "57e5172f",
   "metadata": {},
   "outputs": [
    {
     "name": "stdout",
     "output_type": "stream",
     "text": [
      "1\n",
      "2\n",
      "3\n"
     ]
    }
   ],
   "source": [
    "if 'aku' in 'aku adalah ida' : print('1'); print('2');print('3')"
   ]
  },
  {
   "cell_type": "code",
   "execution_count": 14,
   "id": "bfabd96c",
   "metadata": {},
   "outputs": [
    {
     "name": "stdout",
     "output_type": "stream",
     "text": [
      "i\n",
      "omi\n",
      "tmen\n",
      "kmte\n",
      "kmtn\n"
     ]
    }
   ],
   "source": [
    "a = 'komitmen'\n",
    "print(a[3])\n",
    "print(a[1:4])\n",
    "print(a[4:])\n",
    "print(a[: :2])\n",
    "print(a[0]+a[2]+a[4]+a[7])"
   ]
  },
  {
   "cell_type": "code",
   "execution_count": 15,
   "id": "79b79ab9",
   "metadata": {},
   "outputs": [
    {
     "name": "stdout",
     "output_type": "stream",
     "text": [
      "['Toyota', 'Kijang', 'Isuzu']\n"
     ]
    }
   ],
   "source": [
    "mobil = ['Toyota', 'Kijang']\n",
    "mobil.append('Isuzu')\n",
    "print(mobil)"
   ]
  },
  {
   "cell_type": "code",
   "execution_count": 3,
   "id": "96f157e6",
   "metadata": {},
   "outputs": [
    {
     "name": "stdout",
     "output_type": "stream",
     "text": [
      "1\n",
      "2\n",
      "3\n"
     ]
    }
   ],
   "source": [
    "if 'f' in 'faa' : print('1'); print('2'); print('3')"
   ]
  },
  {
   "cell_type": "markdown",
   "id": "6cf1096f",
   "metadata": {},
   "source": [
    "# Multiple Statement"
   ]
  },
  {
   "cell_type": "code",
   "execution_count": 17,
   "id": "b1219283",
   "metadata": {},
   "outputs": [
    {
     "name": "stdout",
     "output_type": "stream",
     "text": [
      "garos\n",
      "garruo\n"
     ]
    }
   ],
   "source": [
    "y = 4\n",
    "if y ==1: print('foo');print('yuu');print('kuy')\n",
    "elif y ==2: print('qux');print('quz')\n",
    "else : print('garos');print('garruo')"
   ]
  },
  {
   "cell_type": "code",
   "execution_count": 19,
   "id": "39429b90",
   "metadata": {},
   "outputs": [
    {
     "name": "stdout",
     "output_type": "stream",
     "text": [
      "qux\n",
      "quz\n"
     ]
    }
   ],
   "source": [
    "y = 2\n",
    "if y ==1: \n",
    "    print('foo');\n",
    "    print('yuu');\n",
    "    print('kuy')\n",
    "elif y ==2: \n",
    "    print('qux');\n",
    "    print('quz')\n",
    "else :\n",
    "    print('garos');\n",
    "    print('garruo')"
   ]
  },
  {
   "cell_type": "markdown",
   "id": "bf67aa6f",
   "metadata": {},
   "source": [
    "# QUIS 2"
   ]
  },
  {
   "cell_type": "code",
   "execution_count": null,
   "id": "4cc04573",
   "metadata": {},
   "outputs": [],
   "source": [
    "#QUIS 2\n",
    "\n",
    "gaji = int(input(\"berapa gaji kamu? = \"))\n",
    "year = int(input(\"berapa year of service = \"))\n",
    "if year >= 10: \n",
    "    bonus = 0.1 * gaji\n",
    "    total_gaji = gaji+bonus\n",
    "    print(\"maka gaji kamu = \", total_gaji)\n",
    "else :\n",
    "    print(\"gak dapat bonus\")"
   ]
  },
  {
   "cell_type": "markdown",
   "id": "1d4cc700",
   "metadata": {},
   "source": [
    "# Conditional Expression"
   ]
  },
  {
   "cell_type": "code",
   "execution_count": 22,
   "id": "969dc21d",
   "metadata": {},
   "outputs": [
    {
     "name": "stdout",
     "output_type": "stream",
     "text": [
      "Ayo ke pantai\n"
     ]
    }
   ],
   "source": [
    "raining = False\n",
    "print(\"Ayo ke\",'pantai') if not raining else 'Ke perpustakaan aja'"
   ]
  },
  {
   "cell_type": "code",
   "execution_count": 23,
   "id": "6eb0ccfb",
   "metadata": {},
   "outputs": [
    {
     "data": {
      "text/plain": [
       "'Ke perpustakaan aja'"
      ]
     },
     "execution_count": 23,
     "metadata": {},
     "output_type": "execute_result"
    }
   ],
   "source": [
    "raining = True\n",
    "print(\"Ayo ke\",'pantai') if not raining else 'Ke perpustakaan aja'"
   ]
  },
  {
   "cell_type": "code",
   "execution_count": 25,
   "id": "9a759d9c",
   "metadata": {},
   "outputs": [
    {
     "data": {
      "text/plain": [
       "'teen'"
      ]
     },
     "execution_count": 25,
     "metadata": {},
     "output_type": "execute_result"
    }
   ],
   "source": [
    "age = 12\n",
    "s = 'teen' if age < 21 else 'adult'\n",
    "s"
   ]
  },
  {
   "cell_type": "markdown",
   "id": "bc81bbf3",
   "metadata": {},
   "source": [
    "# Perulangan While Loop"
   ]
  },
  {
   "cell_type": "code",
   "execution_count": 26,
   "id": "ba99b085",
   "metadata": {},
   "outputs": [
    {
     "name": "stdout",
     "output_type": "stream",
     "text": [
      "4\n",
      "3\n",
      "2\n",
      "1\n",
      "0\n"
     ]
    }
   ],
   "source": [
    "n = 5\n",
    "while n > 0 :\n",
    "    n -=1\n",
    "    print(n)"
   ]
  },
  {
   "cell_type": "code",
   "execution_count": 4,
   "id": "706943d9",
   "metadata": {},
   "outputs": [
    {
     "name": "stdout",
     "output_type": "stream",
     "text": [
      "1\n",
      "2\n",
      "3\n",
      "4\n",
      "5\n",
      "6\n",
      "7\n",
      "8\n",
      "9\n",
      "10\n",
      "loop ended\n"
     ]
    }
   ],
   "source": [
    "i = 0\n",
    "while i < 10 :\n",
    "    i +=1\n",
    "    print(i)\n",
    "else :\n",
    "    print('loop ended')"
   ]
  },
  {
   "cell_type": "code",
   "execution_count": 6,
   "id": "083c9a09",
   "metadata": {},
   "outputs": [
    {
     "name": "stdout",
     "output_type": "stream",
     "text": [
      "4\n",
      "3\n",
      "2\n"
     ]
    }
   ],
   "source": [
    "# gabungan keduanya\n",
    "# break yang digunakan untuk memberhentikan\n",
    "\n",
    "n = 5\n",
    "while n > 0 :\n",
    "    n -=1\n",
    "    print(n)\n",
    "    if n == 2:\n",
    "        break\n",
    "else :\n",
    "    print('loop done')"
   ]
  },
  {
   "cell_type": "markdown",
   "id": "802a8234",
   "metadata": {},
   "source": [
    "### menggabungkan i while dan if "
   ]
  },
  {
   "cell_type": "code",
   "execution_count": 3,
   "id": "3ad2c9fb",
   "metadata": {},
   "outputs": [
    {
     "name": "stdout",
     "output_type": "stream",
     "text": [
      "4\n",
      "3\n",
      "2\n",
      "tinggal 1 nih \n",
      "0\n"
     ]
    }
   ],
   "source": [
    "n = 5\n",
    "while n > 0 :\n",
    "    n -=1\n",
    "    if n == 1 :\n",
    "        print('tinggal 1 nih ')\n",
    "    else :\n",
    "        print(n)"
   ]
  },
  {
   "cell_type": "code",
   "execution_count": 36,
   "id": "74e7b39c",
   "metadata": {},
   "outputs": [
    {
     "name": "stdout",
     "output_type": "stream",
     "text": [
      "6\n",
      "5\n",
      "4\n",
      "3\n",
      "berhenti\n"
     ]
    }
   ],
   "source": [
    "n = 7\n",
    "while n > 0:\n",
    "    n -=1\n",
    "    if n ==2:\n",
    "        break\n",
    "    print(n)\n",
    "print('berhenti')"
   ]
  },
  {
   "cell_type": "code",
   "execution_count": 37,
   "id": "7473c812",
   "metadata": {},
   "outputs": [
    {
     "name": "stdout",
     "output_type": "stream",
     "text": [
      "6\n",
      "5\n",
      "4\n",
      "3\n",
      "1\n",
      "0\n",
      "berhenti\n"
     ]
    }
   ],
   "source": [
    "n = 7\n",
    "while n > 0:\n",
    "    n -=1\n",
    "    if n ==2:\n",
    "        continue\n",
    "    print(n)\n",
    "print('berhenti')"
   ]
  },
  {
   "cell_type": "markdown",
   "id": "0b5dd7f1",
   "metadata": {},
   "source": [
    "## Else clause"
   ]
  },
  {
   "cell_type": "code",
   "execution_count": 38,
   "id": "ead6975e",
   "metadata": {},
   "outputs": [
    {
     "name": "stdout",
     "output_type": "stream",
     "text": [
      "6\n",
      "5\n",
      "4\n",
      "3\n",
      "2\n",
      "1\n",
      "0\n",
      "sudah\n"
     ]
    }
   ],
   "source": [
    "n = 7\n",
    "while n > 0:\n",
    "    n -=1\n",
    "    print(n)\n",
    "else :\n",
    "    print('sudah') #bisa menambahkan else gak ada di bahasa pemograman lain"
   ]
  },
  {
   "cell_type": "code",
   "execution_count": 41,
   "id": "5890b5c7",
   "metadata": {},
   "outputs": [
    {
     "name": "stdout",
     "output_type": "stream",
     "text": [
      "6\n",
      "5\n",
      "4\n",
      "3\n",
      "2\n"
     ]
    }
   ],
   "source": [
    "n = 7\n",
    "while n > 0:\n",
    "    n -=1\n",
    "    print(n)\n",
    "    if n ==2:\n",
    "        break #karena ada klausa break maka klausa else tidak dieksekusi\n",
    "else :\n",
    "    print('berhenti')"
   ]
  },
  {
   "cell_type": "code",
   "execution_count": null,
   "id": "9d14b49e",
   "metadata": {},
   "outputs": [],
   "source": [
    "while True:\n",
    "    print('sayang')"
   ]
  },
  {
   "cell_type": "markdown",
   "id": "a64bc8fa",
   "metadata": {},
   "source": [
    "## Nested If - Else Loops"
   ]
  },
  {
   "cell_type": "code",
   "execution_count": 11,
   "id": "48ec79fb",
   "metadata": {},
   "outputs": [
    {
     "name": "stdout",
     "output_type": "stream",
     "text": [
      "Grandfather\n"
     ]
    }
   ],
   "source": [
    "age = 29\n",
    "gender ='M'\n",
    "if age < 18 :\n",
    "    if gender == 'M':\n",
    "        print('Son')\n",
    "    else :\n",
    "        print('Daughter')\n",
    "elif age >= 40 and age <80 :\n",
    "    if gender == 'M':\n",
    "        print('Father')\n",
    "    else :\n",
    "        print('Mother')\n",
    "else :\n",
    "    if gender == 'M':\n",
    "        print('Grandfather')\n",
    "    else :\n",
    "        print('Gandmother')"
   ]
  },
  {
   "cell_type": "code",
   "execution_count": null,
   "id": "f92e5c3a",
   "metadata": {},
   "outputs": [],
   "source": [
    "# Nested While Loop\n",
    "a = ['foo','bar']\n",
    "\n",
    "while len(a):\n",
    "    print(a.pop(0))\n",
    "    b = ['baz','uu']\n",
    "    while len(b):\n",
    "        print('>', b.pop(0))\n",
    "    "
   ]
  },
  {
   "cell_type": "markdown",
   "id": "f5de42ab",
   "metadata": {},
   "source": [
    "# For Loop"
   ]
  },
  {
   "cell_type": "code",
   "execution_count": 12,
   "id": "29b151b0",
   "metadata": {},
   "outputs": [
    {
     "name": "stdout",
     "output_type": "stream",
     "text": [
      "1\n",
      "2\n",
      "3\n",
      "4\n",
      "5\n"
     ]
    }
   ],
   "source": [
    "a = [1,2,3,4,5]\n",
    "for i in a:\n",
    "    print(i)"
   ]
  },
  {
   "cell_type": "code",
   "execution_count": 21,
   "id": "6f8430f2",
   "metadata": {},
   "outputs": [
    {
     "name": "stdout",
     "output_type": "stream",
     "text": [
      "b\n",
      "u\n",
      "d\n",
      "i\n"
     ]
    }
   ],
   "source": [
    "a = ['budi','jesa','dian']\n",
    "for i in a:\n",
    "    if i == 'jesa' :\n",
    "        break\n",
    "    for j in i :\n",
    "            print(j)"
   ]
  },
  {
   "cell_type": "code",
   "execution_count": 19,
   "id": "cf9c6baa",
   "metadata": {},
   "outputs": [
    {
     "name": "stdout",
     "output_type": "stream",
     "text": [
      "budi\n",
      "jesa\n",
      "dian\n"
     ]
    }
   ],
   "source": [
    "a = ['budi','jesa','dian']\n",
    "for i in a:\n",
    "    print(i)"
   ]
  },
  {
   "cell_type": "markdown",
   "id": "632a7c4f",
   "metadata": {},
   "source": [
    "# Dictionary"
   ]
  },
  {
   "cell_type": "code",
   "execution_count": 28,
   "id": "0c1dcc4f",
   "metadata": {},
   "outputs": [
    {
     "name": "stdout",
     "output_type": "stream",
     "text": [
      "Bekasi\n",
      "Jakarta\n",
      "Medan\n"
     ]
    }
   ],
   "source": [
    "dictionary_a = {'A': 'Bekasi' , 'B' : 'Jakarta' , 'C': 'Medan'}\n",
    "for i in dictionary_a:\n",
    "               print(dictionary_a[i])"
   ]
  },
  {
   "cell_type": "code",
   "execution_count": 29,
   "id": "661a40cd",
   "metadata": {},
   "outputs": [
    {
     "data": {
      "text/plain": [
       "'Bekasi'"
      ]
     },
     "execution_count": 29,
     "metadata": {},
     "output_type": "execute_result"
    }
   ],
   "source": [
    "dictionary_a['A']"
   ]
  },
  {
   "cell_type": "code",
   "execution_count": 33,
   "id": "3ba68507",
   "metadata": {},
   "outputs": [
    {
     "name": "stdout",
     "output_type": "stream",
     "text": [
      "Aster\n",
      "Hachi\n"
     ]
    }
   ],
   "source": [
    "for i in ['Aster', 'Jubah','Nambo', 'Hachi']:\n",
    "    if 'b' in i:\n",
    "        continue #iterasinya ngeskip\n",
    "    print(i)"
   ]
  },
  {
   "cell_type": "code",
   "execution_count": 34,
   "id": "5626a584",
   "metadata": {},
   "outputs": [
    {
     "name": "stdout",
     "output_type": "stream",
     "text": [
      "Aster\n",
      "Jubah\n",
      "Nambo\n",
      "Hachi\n"
     ]
    }
   ],
   "source": [
    "for i in ['Aster', 'Jubah','Nambo', 'Hachi']:\n",
    "    if 'b' in i:\n",
    "        pass\n",
    "    print(i)"
   ]
  },
  {
   "cell_type": "markdown",
   "id": "3743e030",
   "metadata": {},
   "source": [
    "* loop itu keseluruhan iterasi objek 1 loop diatas 4 iterasi\n",
    "* iterasi adalah untuk istilah untuk 1 putaran loop\n",
    "* continue akan memberhentikan iterasi dan lanjut ke iterasi berikutnya\n",
    "* break akan memberhentikan looping secara keseluruhan"
   ]
  },
  {
   "cell_type": "code",
   "execution_count": 35,
   "id": "25bb5dec",
   "metadata": {},
   "outputs": [
    {
     "name": "stdout",
     "output_type": "stream",
     "text": [
      "Aster\n"
     ]
    }
   ],
   "source": [
    "#break\n",
    "for i in ['Aster', 'Jubah','Nambo', 'Hachi']:\n",
    "    if 'b' in i:\n",
    "        break\n",
    "    print(i)\n",
    "else :\n",
    "    print(\"loop done\")"
   ]
  },
  {
   "cell_type": "code",
   "execution_count": 36,
   "id": "3db07f15",
   "metadata": {},
   "outputs": [
    {
     "name": "stdout",
     "output_type": "stream",
     "text": [
      "Aster\n",
      "Jubah\n",
      "Nambo\n",
      "Hachi\n",
      "loop done\n"
     ]
    }
   ],
   "source": [
    "for i in ['Aster', 'Jubah','Nambo', 'Hachi']:\n",
    "    print(i)\n",
    "else :\n",
    "    print(\"loop done\")"
   ]
  },
  {
   "cell_type": "code",
   "execution_count": 38,
   "id": "3a9fb323",
   "metadata": {},
   "outputs": [
    {
     "name": "stdout",
     "output_type": "stream",
     "text": [
      "range(0, 5)\n"
     ]
    }
   ],
   "source": [
    "print(range(5))"
   ]
  },
  {
   "cell_type": "code",
   "execution_count": 47,
   "id": "0d326ac9",
   "metadata": {},
   "outputs": [
    {
     "name": "stdout",
     "output_type": "stream",
     "text": [
      "12\n",
      "15\n",
      "18\n"
     ]
    }
   ],
   "source": [
    "a = [1,2,3]\n",
    "b = [4,5,6]\n",
    "c = [7,8,9]\n",
    "for i,j,k in zip(a,b,c):\n",
    "    print(i+j+k)"
   ]
  },
  {
   "cell_type": "code",
   "execution_count": 48,
   "id": "17ef5de3",
   "metadata": {},
   "outputs": [
    {
     "name": "stdout",
     "output_type": "stream",
     "text": [
      "20\n",
      "ganjil :  1\n",
      "genap : 2\n",
      "ganjil :  3\n",
      "genap : 4\n",
      "ganjil :  5\n",
      "genap : 6\n",
      "ganjil :  7\n",
      "genap : 8\n",
      "ganjil :  9\n",
      "genap : 10\n",
      "ganjil :  11\n",
      "genap : 12\n",
      "ganjil :  13\n",
      "genap : 14\n",
      "ganjil :  15\n",
      "genap : 16\n",
      "ganjil :  17\n",
      "genap : 18\n",
      "ganjil :  19\n",
      "genap : 20\n"
     ]
    }
   ],
   "source": [
    "n = int(input())\n",
    "for i in range(1,n+1):\n",
    "    if i % 2 == 0 :\n",
    "        print('genap :', i)\n",
    "        continue\n",
    "    print('ganjil : ', i)"
   ]
  },
  {
   "cell_type": "code",
   "execution_count": 54,
   "id": "04e94c46",
   "metadata": {},
   "outputs": [
    {
     "name": "stdout",
     "output_type": "stream",
     "text": [
      "1\n",
      "genap\n",
      "3\n",
      "genap\n",
      "5\n",
      "genap\n",
      "7\n",
      "genap\n",
      "9\n",
      "genap\n",
      "11\n",
      "genap\n",
      "13\n",
      "genap\n",
      "15\n",
      "genap\n",
      "17\n",
      "genap\n",
      "19\n",
      "genap\n"
     ]
    }
   ],
   "source": [
    "#QUIS 3\n",
    "\n",
    "i = 1\n",
    "while i <=20:\n",
    "    if i % 2 == 1 :\n",
    "        print(i)\n",
    "    else:\n",
    "        print('genap')\n",
    "    i+=1"
   ]
  },
  {
   "cell_type": "code",
   "execution_count": 79,
   "id": "42a59d29",
   "metadata": {},
   "outputs": [
    {
     "name": "stdout",
     "output_type": "stream",
     "text": [
      "10\n",
      "\n",
      "1\n",
      "12\n",
      "123\n",
      "1234\n",
      "12345\n",
      "123456\n",
      "1234567\n",
      "12345678\n",
      "123456789\n",
      "12345678910\n"
     ]
    }
   ],
   "source": [
    "a = int(input())\n",
    "print()\n",
    "for i in range(1,a+1):\n",
    "    for j in range (1,i+1):\n",
    "        print(j, end='')\n",
    "    print()"
   ]
  },
  {
   "cell_type": "code",
   "execution_count": 76,
   "id": "7454237a",
   "metadata": {},
   "outputs": [
    {
     "name": "stdout",
     "output_type": "stream",
     "text": [
      "10\n",
      "\n",
      "1  \n",
      "1  2  \n",
      "1  2  3  \n",
      "1  2  3  4  \n",
      "1  2  3  4  5  \n",
      "1  2  3  4  5  6  \n",
      "1  2  3  4  5  6  7  \n",
      "1  2  3  4  5  6  7  8  \n",
      "1  2  3  4  5  6  7  8  9  \n",
      "1  2  3  4  5  6  7  8  9  10  \n"
     ]
    }
   ],
   "source": [
    "a = int(input())\n",
    "print()\n",
    "  \n",
    "for i in range(1,a+1):\n",
    "  for j in range(1,i+1):\n",
    "    print(j,' ',end='')\n",
    "  print()"
   ]
  },
  {
   "cell_type": "code",
   "execution_count": 75,
   "id": "601a7380",
   "metadata": {},
   "outputs": [
    {
     "data": {
      "text/html": [
       "<div>\n",
       "<style scoped>\n",
       "    .dataframe tbody tr th:only-of-type {\n",
       "        vertical-align: middle;\n",
       "    }\n",
       "\n",
       "    .dataframe tbody tr th {\n",
       "        vertical-align: top;\n",
       "    }\n",
       "\n",
       "    .dataframe thead th {\n",
       "        text-align: right;\n",
       "    }\n",
       "</style>\n",
       "<table border=\"1\" class=\"dataframe\">\n",
       "  <thead>\n",
       "    <tr style=\"text-align: right;\">\n",
       "      <th></th>\n",
       "      <th>nama</th>\n",
       "      <th>umur</th>\n",
       "      <th>propinsi</th>\n",
       "    </tr>\n",
       "  </thead>\n",
       "  <tbody>\n",
       "    <tr>\n",
       "      <th>0</th>\n",
       "      <td>joni</td>\n",
       "      <td>23</td>\n",
       "      <td>Sumatera Selatan</td>\n",
       "    </tr>\n",
       "    <tr>\n",
       "      <th>1</th>\n",
       "      <td>meri</td>\n",
       "      <td>78</td>\n",
       "      <td>Jatim</td>\n",
       "    </tr>\n",
       "    <tr>\n",
       "      <th>2</th>\n",
       "      <td>peter</td>\n",
       "      <td>22</td>\n",
       "      <td>DKI</td>\n",
       "    </tr>\n",
       "    <tr>\n",
       "      <th>3</th>\n",
       "      <td>japri</td>\n",
       "      <td>19</td>\n",
       "      <td>Bali</td>\n",
       "    </tr>\n",
       "    <tr>\n",
       "      <th>4</th>\n",
       "      <td>budi</td>\n",
       "      <td>12</td>\n",
       "      <td>Papua</td>\n",
       "    </tr>\n",
       "    <tr>\n",
       "      <th>5</th>\n",
       "      <td>lisa</td>\n",
       "      <td>33</td>\n",
       "      <td>NTT</td>\n",
       "    </tr>\n",
       "  </tbody>\n",
       "</table>\n",
       "</div>"
      ],
      "text/plain": [
       "    nama  umur          propinsi\n",
       "0   joni    23  Sumatera Selatan\n",
       "1   meri    78             Jatim\n",
       "2  peter    22               DKI\n",
       "3  japri    19              Bali\n",
       "4   budi    12             Papua\n",
       "5   lisa    33               NTT"
      ]
     },
     "execution_count": 75,
     "metadata": {},
     "output_type": "execute_result"
    }
   ],
   "source": [
    "import pandas as pd\n",
    "\n",
    "df = pd.DataFrame({\n",
    "        'nama':['joni','meri','peter','japri','budi','lisa'],\n",
    "        'umur':[23,78,22,19,12,33],\n",
    "        'propinsi':['Sumatera Selatan','Jatim','DKI','Bali','Papua','NTT']\n",
    "     })\n",
    "df"
   ]
  },
  {
   "cell_type": "code",
   "execution_count": null,
   "id": "e9b27e4b",
   "metadata": {},
   "outputs": [],
   "source": []
  }
 ],
 "metadata": {
  "kernelspec": {
   "display_name": "Python 3 (ipykernel)",
   "language": "python",
   "name": "python3"
  },
  "language_info": {
   "codemirror_mode": {
    "name": "ipython",
    "version": 3
   },
   "file_extension": ".py",
   "mimetype": "text/x-python",
   "name": "python",
   "nbconvert_exporter": "python",
   "pygments_lexer": "ipython3",
   "version": "3.10.9"
  }
 },
 "nbformat": 4,
 "nbformat_minor": 5
}
